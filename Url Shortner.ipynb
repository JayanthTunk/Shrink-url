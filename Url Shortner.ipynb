{
 "cells": [
  {
   "cell_type": "code",
   "execution_count": 1,
   "id": "3e7c6d89",
   "metadata": {},
   "outputs": [
    {
     "name": "stdout",
     "output_type": "stream",
     "text": [
      "Url to Shorten: https://github.com/JayanthTunk\n",
      "shortened url is: https://tinyurl.com/2gm3ohq2\n"
     ]
    }
   ],
   "source": [
    "import pyshorteners\n",
    "url= input(\"Url to Shorten: \")\n",
    "tiny= pyshorteners.Shortener()\n",
    "shortened_url= tiny.tinyurl.short(url)\n",
    "print(\"shortened url is: \" + shortened_url)"
   ]
  },
  {
   "cell_type": "code",
   "execution_count": null,
   "id": "b67cd7c4",
   "metadata": {},
   "outputs": [],
   "source": []
  }
 ],
 "metadata": {
  "kernelspec": {
   "display_name": "Python 3",
   "language": "python",
   "name": "python3"
  },
  "language_info": {
   "codemirror_mode": {
    "name": "ipython",
    "version": 3
   },
   "file_extension": ".py",
   "mimetype": "text/x-python",
   "name": "python",
   "nbconvert_exporter": "python",
   "pygments_lexer": "ipython3",
   "version": "3.6.9"
  }
 },
 "nbformat": 4,
 "nbformat_minor": 5
}
